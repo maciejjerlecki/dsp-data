{
 "cells": [
  {
   "cell_type": "code",
   "execution_count": 1,
   "metadata": {
    "collapsed": true
   },
   "outputs": [],
   "source": [
    "%load_ext sparkver"
   ]
  },
  {
   "cell_type": "code",
   "execution_count": 2,
   "metadata": {},
   "outputs": [
    {
     "name": "stdout",
     "output_type": "stream",
     "text": [
      "Spark version selected: 2.4.7_2.12, py4j version selected: 0.10.7\n"
     ]
    }
   ],
   "source": [
    "%sparkver"
   ]
  },
  {
   "cell_type": "code",
   "execution_count": 3,
   "metadata": {},
   "outputs": [
    {
     "data": {
      "text/html": [
       "<style>.container { width:90% !important; }</style>"
      ],
      "text/plain": [
       "<IPython.core.display.HTML object>"
      ]
     },
     "metadata": {},
     "output_type": "display_data"
    }
   ],
   "source": [
    "from IPython.display import display, HTML\n",
    "display(HTML(\"<style>.container { width:90% !important; }</style>\"))"
   ]
  },
  {
   "cell_type": "code",
   "execution_count": 4,
   "metadata": {},
   "outputs": [
    {
     "name": "stdout",
     "output_type": "stream",
     "text": [
      "Application master: http://rm.hadoop.qxlint:8088/proxy/application_1621337340330_389241\n"
     ]
    }
   ],
   "source": [
    "APP_NAME = 'piekny notebook'\n",
    "QUEUE = 'ads_data'\n",
    "EXECUTOR_MEMORY = '8g'\n",
    "EXECUTOR_OVERHEAD = 2048\n",
    "EXECUTOR_CORES = 8\n",
    "EXECUTORS = 50\n",
    "DRIVER_MEMORY = '8g'\n",
    "\n",
    "from pyspark.sql.session import SparkSession\n",
    "from pyspark.sql.functions import *\n",
    "from time import time, strftime\n",
    "from datetime import datetime, timedelta\n",
    "import datetime\n",
    "from pyspark.sql.types import *\n",
    "from pyspark.sql.window import Window\n",
    "from pyspark import StorageLevel\n",
    "\n",
    "spark = (SparkSession.builder\n",
    "    .appName(APP_NAME)\n",
    "    .config('spark.yarn.queue', QUEUE)\n",
    "    .config('spark.executor.memory', EXECUTOR_MEMORY)\n",
    "    .config('spark.executor.cores', EXECUTOR_CORES)\n",
    "    .config('spark.dynamicAllocation.enabled','true')\n",
    "    .config('spark.dynamicAllocation.initialExecutors', 8)\n",
    "    .config('spark.dynamicAllocation.minExecutors', 1)\n",
    "    .config('spark.dynamicAllocation.maxExecutors', EXECUTORS)\n",
    "    .config('spark.dynamicAllocation.schedulerBacklogTimeout', '3s')\n",
    "    .config('spark.dynamicAllocation.executorIdleTimeout', '120s')\n",
    "    .config('spark.shuffle.service.enabled','true')\n",
    "    .config('spark.shuffle.service.port', 7337)\n",
    "    .config('spark.yarn.executor.memoryOverhead', EXECUTOR_OVERHEAD)\n",
    "    .config('spark.yarn.appMasterEnv.JAVA_HOME', '/opt/jre1.8.0')\n",
    "    .config('spark.executorEnv.JAVA_HOME', '/opt/jre1.8.0')\n",
    "    .config('spark.speculation', 'true')\n",
    "    .config('spark.driver.memory', DRIVER_MEMORY)\n",
    "    .config('spark.driver.maxResultSize', '20g')\n",
    "    .enableHiveSupport()\n",
    "    .getOrCreate())\n",
    "print('Application master: http://rm.hadoop.qxlint:8088/proxy/%s' % spark.sparkContext.applicationId)\n"
   ]
  },
  {
   "cell_type": "code",
   "execution_count": 5,
   "metadata": {
    "collapsed": true
   },
   "outputs": [],
   "source": [
    "import pandas as pd\n",
    "import numpy as np"
   ]
  },
  {
   "cell_type": "code",
   "execution_count": 6,
   "metadata": {},
   "outputs": [
    {
     "name": "stdout",
     "output_type": "stream",
     "text": [
      "0.21.1\n"
     ]
    }
   ],
   "source": [
    "import requests\n",
    "print(pd.__version__)"
   ]
  },
  {
   "cell_type": "code",
   "execution_count": 7,
   "metadata": {
    "collapsed": true
   },
   "outputs": [],
   "source": [
    "yest=(datetime.datetime.now()+timedelta(days=-1)).strftime(\"%Y-%m-%d\")"
   ]
  },
  {
   "cell_type": "code",
   "execution_count": 8,
   "metadata": {
    "collapsed": true
   },
   "outputs": [],
   "source": [
    "pd.set_option('display.max_colwidth', 99999)\n",
    "pd.set_option('display.max_columns', 999)\n",
    "pd.set_option('display.float_format', lambda x: '%.3f' % x)"
   ]
  },
  {
   "cell_type": "code",
   "execution_count": 9,
   "metadata": {
    "collapsed": true
   },
   "outputs": [],
   "source": [
    "fromDate = (datetime.datetime.now()+timedelta(days=-7)).strftime(\"%Y-%m-%d\")\n",
    "toDate = (datetime.datetime.now()+timedelta(days=-1)).strftime(\"%Y-%m-%d\")"
   ]
  },
  {
   "cell_type": "code",
   "execution_count": 10,
   "metadata": {},
   "outputs": [
    {
     "name": "stdout",
     "output_type": "stream",
     "text": [
      "2021-05-20 2021-05-26\n"
     ]
    }
   ],
   "source": [
    "print(fromDate, toDate)"
   ]
  },
  {
   "cell_type": "code",
   "execution_count": 11,
   "metadata": {
    "collapsed": true
   },
   "outputs": [],
   "source": [
    "split_table = spark.sql(\"\"\"\n",
    "    select adgroup_id\n",
    "        , split.core_split core_split\n",
    "        , split.google_split google_split\n",
    "        , v_date\n",
    "    from ads_prod.adgroups_budget_splits\n",
    "    where v_date = '{}'\n",
    "\"\"\".format(yest))"
   ]
  },
  {
   "cell_type": "code",
   "execution_count": 12,
   "metadata": {
    "collapsed": true
   },
   "outputs": [],
   "source": [
    "split_changed = (split_table\n",
    "                 .where(col('google_split')!=15)\n",
    "                )"
   ]
  },
  {
   "cell_type": "code",
   "execution_count": 13,
   "metadata": {
    "collapsed": true
   },
   "outputs": [],
   "source": [
    "adgroup_stats = (spark.table('ads_prod.adgroup_stats')\n",
    "                 .where(col('v_date').between(fromDate, toDate))\n",
    "                 .where(col('total_cost') > 0)\n",
    "                 .withColumn('is_google', when(col('placement')=='google', \"google\").otherwise(\"rest\"))\n",
    "                 .groupBy('adgroup_id')\n",
    "                 .pivot('is_google')\n",
    "                 .agg(sum('total_cost').alias('reve_gross'))\n",
    "               )"
   ]
  },
  {
   "cell_type": "code",
   "execution_count": 14,
   "metadata": {
    "collapsed": true
   },
   "outputs": [],
   "source": [
    "adgroup_gmv = (spark.table('ads_prod.adgroup_gmv')\n",
    "               .where(col('date').between(fromDate, toDate))\n",
    "               .withColumn('is_google', when(col('key.placement')=='google', \"google_gmv\").otherwise(\"rest_gmv\"))\n",
    "               .groupBy(col('key')['adgroup_id'].alias('adgroup_id'))\n",
    "               .pivot('is_google')\n",
    "               .agg(sum(col('aggregation')['direct_transactions_value'] \n",
    "                        + col('aggregation')['indirect_transactions_value']).alias('gmv_7d'))\n",
    "             )"
   ]
  },
  {
   "cell_type": "code",
   "execution_count": 15,
   "metadata": {
    "collapsed": true
   },
   "outputs": [],
   "source": [
    "window = Window.partitionBy('adgroup_id').orderBy(col('key').desc())\n",
    "\n",
    "mda = (spark.table('ads_prod.mongo_dump_adgroups_parquet')\n",
    "       .where(col('v_date')==yest)\n",
    "       .where(col('hour')=='23')\n",
    "       .select(col('id').alias('adgroup_id')\n",
    "              , explode(col('dailylimithistory'))\n",
    "              )\n",
    "       .withColumn('ranking', rank().over(window))\n",
    "       .where(col('ranking')==1) ## tylko najnowszy budzet\n",
    "       .select(col('adgroup_id')\n",
    "               , col('key').alias('budget_change_date')\n",
    "               , (col('value.value')*7).alias('budget')\n",
    "              )\n",
    "      )"
   ]
  },
  {
   "cell_type": "code",
   "execution_count": 16,
   "metadata": {
    "collapsed": true
   },
   "outputs": [],
   "source": [
    "total = (split_table\n",
    "         .join(adgroup_stats, 'adgroup_id', 'inner')\n",
    "         .join(mda, 'adgroup_id', 'inner')\n",
    "         .withColumn('google_budget', col('google_split') * col('budget')/100)\n",
    "         .withColumn('core_budget', col('core_split') * col('budget')/100)\n",
    "         .withColumn('google_percent', col('google')/col('google_budget'))\n",
    "         .withColumn('core_percent', col('rest')/col('core_budget'))\n",
    "        )"
   ]
  },
  {
   "cell_type": "code",
   "execution_count": 17,
   "metadata": {},
   "outputs": [
    {
     "data": {
      "text/plain": [
       "32771"
      ]
     },
     "execution_count": 17,
     "metadata": {},
     "output_type": "execute_result"
    }
   ],
   "source": [
    "total.count()"
   ]
  },
  {
   "cell_type": "markdown",
   "metadata": {},
   "source": [
    "## Ile wczoraj bylo zmienionych adgrup?"
   ]
  },
  {
   "cell_type": "code",
   "execution_count": 18,
   "metadata": {},
   "outputs": [
    {
     "data": {
      "text/html": [
       "<div>\n",
       "<style scoped>\n",
       "    .dataframe tbody tr th:only-of-type {\n",
       "        vertical-align: middle;\n",
       "    }\n",
       "\n",
       "    .dataframe tbody tr th {\n",
       "        vertical-align: top;\n",
       "    }\n",
       "\n",
       "    .dataframe thead th {\n",
       "        text-align: right;\n",
       "    }\n",
       "</style>\n",
       "<table border=\"1\" class=\"dataframe\">\n",
       "  <thead>\n",
       "    <tr style=\"text-align: right;\">\n",
       "      <th></th>\n",
       "      <th>is_changed</th>\n",
       "      <th>cnt</th>\n",
       "    </tr>\n",
       "  </thead>\n",
       "  <tbody>\n",
       "    <tr>\n",
       "      <th>0</th>\n",
       "      <td>1</td>\n",
       "      <td>129</td>\n",
       "    </tr>\n",
       "    <tr>\n",
       "      <th>1</th>\n",
       "      <td>0</td>\n",
       "      <td>71865</td>\n",
       "    </tr>\n",
       "  </tbody>\n",
       "</table>\n",
       "</div>"
      ],
      "text/plain": [
       "   is_changed    cnt\n",
       "0           1    129\n",
       "1           0  71865"
      ]
     },
     "execution_count": 18,
     "metadata": {},
     "output_type": "execute_result"
    }
   ],
   "source": [
    "\n",
    "split_grouped = (split_table\n",
    "                 .withColumn('is_changed', when(col('google_split')==15, 0).otherwise(1))\n",
    "                 .groupBy('is_changed')\n",
    "                 .agg(count('adgroup_id').alias('cnt'))\n",
    "                )\n",
    "\n",
    "split_grouped.toPandas()"
   ]
  },
  {
   "cell_type": "code",
   "execution_count": 19,
   "metadata": {
    "collapsed": true
   },
   "outputs": [],
   "source": [
    "## 0.1% jak narazie"
   ]
  },
  {
   "cell_type": "markdown",
   "metadata": {},
   "source": [
    "## Procent wykorzystania budzetu"
   ]
  },
  {
   "cell_type": "code",
   "execution_count": 20,
   "metadata": {
    "collapsed": true
   },
   "outputs": [],
   "source": [
    "budget_change = (total\n",
    "                 .groupBy('google_split')\n",
    "                 .agg(expr(\"percentile(core_percent, 0.25)\").alias('core_25')\n",
    "                      , expr(\"percentile(core_percent, 0.5)\").alias('core_50')\n",
    "                      , expr(\"percentile(core_percent, 0.75)\").alias('core_75')\n",
    "                      , expr(\"percentile(core_percent, 0.99)\").alias('core_99')\n",
    "                      , expr(\"percentile(google_percent, 0.25)\").alias('google_25')\n",
    "                      , expr(\"percentile(google_percent, 0.5)\").alias('google_50')\n",
    "                      , expr(\"percentile(google_percent, 0.75)\").alias('google_75')\n",
    "                      , expr(\"percentile(google_percent, 0.99)\").alias('google_99')\n",
    "                     )\n",
    "                )"
   ]
  },
  {
   "cell_type": "code",
   "execution_count": 21,
   "metadata": {},
   "outputs": [
    {
     "data": {
      "text/html": [
       "<div>\n",
       "<style scoped>\n",
       "    .dataframe tbody tr th:only-of-type {\n",
       "        vertical-align: middle;\n",
       "    }\n",
       "\n",
       "    .dataframe tbody tr th {\n",
       "        vertical-align: top;\n",
       "    }\n",
       "\n",
       "    .dataframe thead th {\n",
       "        text-align: right;\n",
       "    }\n",
       "</style>\n",
       "<table border=\"1\" class=\"dataframe\">\n",
       "  <thead>\n",
       "    <tr style=\"text-align: right;\">\n",
       "      <th></th>\n",
       "      <th>google_split</th>\n",
       "      <th>core_25</th>\n",
       "      <th>core_50</th>\n",
       "      <th>core_75</th>\n",
       "      <th>core_99</th>\n",
       "      <th>google_25</th>\n",
       "      <th>google_50</th>\n",
       "      <th>google_75</th>\n",
       "      <th>google_99</th>\n",
       "    </tr>\n",
       "  </thead>\n",
       "  <tbody>\n",
       "    <tr>\n",
       "      <th>0</th>\n",
       "      <td>20</td>\n",
       "      <td>0.088</td>\n",
       "      <td>0.159</td>\n",
       "      <td>0.243</td>\n",
       "      <td>0.404</td>\n",
       "      <td>0.635</td>\n",
       "      <td>0.719</td>\n",
       "      <td>0.774</td>\n",
       "      <td>0.942</td>\n",
       "    </tr>\n",
       "    <tr>\n",
       "      <th>1</th>\n",
       "      <td>15</td>\n",
       "      <td>0.031</td>\n",
       "      <td>0.137</td>\n",
       "      <td>0.479</td>\n",
       "      <td>1.219</td>\n",
       "      <td>0.727</td>\n",
       "      <td>0.933</td>\n",
       "      <td>1.015</td>\n",
       "      <td>6.586</td>\n",
       "    </tr>\n",
       "    <tr>\n",
       "      <th>2</th>\n",
       "      <td>10</td>\n",
       "      <td>0.221</td>\n",
       "      <td>0.594</td>\n",
       "      <td>0.992</td>\n",
       "      <td>1.324</td>\n",
       "      <td>0.461</td>\n",
       "      <td>0.749</td>\n",
       "      <td>1.126</td>\n",
       "      <td>1.988</td>\n",
       "    </tr>\n",
       "  </tbody>\n",
       "</table>\n",
       "</div>"
      ],
      "text/plain": [
       "   google_split  core_25  core_50  core_75  core_99  google_25  google_50  \\\n",
       "0            20    0.088    0.159    0.243    0.404      0.635      0.719   \n",
       "1            15    0.031    0.137    0.479    1.219      0.727      0.933   \n",
       "2            10    0.221    0.594    0.992    1.324      0.461      0.749   \n",
       "\n",
       "   google_75  google_99  \n",
       "0      0.774      0.942  \n",
       "1      1.015      6.586  \n",
       "2      1.126      1.988  "
      ]
     },
     "execution_count": 21,
     "metadata": {},
     "output_type": "execute_result"
    }
   ],
   "source": [
    "# ci ktorym obnizylismy split faktycznie wydaja wiekszosc budzetow w core\n",
    "# ci ktorym podnieslismy split wydaja mniej w core\n",
    "# dla wydatkow w google nie ma takiej zaleznosci\n",
    "budget_change.toPandas()"
   ]
  },
  {
   "cell_type": "markdown",
   "metadata": {
    "collapsed": true
   },
   "source": [
    "## Revenue"
   ]
  },
  {
   "cell_type": "code",
   "execution_count": 22,
   "metadata": {
    "collapsed": true
   },
   "outputs": [],
   "source": [
    "reve_change = (total\n",
    "               .groupBy('google_split')\n",
    "               .agg(expr(\"percentile(rest, 0.25)\").alias('core_25')\n",
    "                    , expr(\"percentile(rest, 0.5)\").alias('core_50')\n",
    "                    , expr(\"percentile(rest, 0.75)\").alias('core_75')\n",
    "                    , expr(\"percentile(rest, 0.99)\").alias('core_99')\n",
    "                    , expr(\"percentile(google, 0.25)\").alias('google_25')\n",
    "                    , expr(\"percentile(google, 0.5)\").alias('google_50')\n",
    "                    , expr(\"percentile(google, 0.75)\").alias('google_75')\n",
    "                    , expr(\"percentile(google, 0.99)\").alias('google_99')\n",
    "                   )\n",
    "                )"
   ]
  },
  {
   "cell_type": "code",
   "execution_count": 23,
   "metadata": {},
   "outputs": [
    {
     "data": {
      "text/html": [
       "<div>\n",
       "<style scoped>\n",
       "    .dataframe tbody tr th:only-of-type {\n",
       "        vertical-align: middle;\n",
       "    }\n",
       "\n",
       "    .dataframe tbody tr th {\n",
       "        vertical-align: top;\n",
       "    }\n",
       "\n",
       "    .dataframe thead th {\n",
       "        text-align: right;\n",
       "    }\n",
       "</style>\n",
       "<table border=\"1\" class=\"dataframe\">\n",
       "  <thead>\n",
       "    <tr style=\"text-align: right;\">\n",
       "      <th></th>\n",
       "      <th>google_split</th>\n",
       "      <th>core_25</th>\n",
       "      <th>core_50</th>\n",
       "      <th>core_75</th>\n",
       "      <th>core_99</th>\n",
       "      <th>google_25</th>\n",
       "      <th>google_50</th>\n",
       "      <th>google_75</th>\n",
       "      <th>google_99</th>\n",
       "    </tr>\n",
       "  </thead>\n",
       "  <tbody>\n",
       "    <tr>\n",
       "      <th>0</th>\n",
       "      <td>20</td>\n",
       "      <td>18.665</td>\n",
       "      <td>34.660</td>\n",
       "      <td>112.160</td>\n",
       "      <td>576.350</td>\n",
       "      <td>25.745</td>\n",
       "      <td>46.700</td>\n",
       "      <td>138.635</td>\n",
       "      <td>407.163</td>\n",
       "    </tr>\n",
       "    <tr>\n",
       "      <th>1</th>\n",
       "      <td>15</td>\n",
       "      <td>4.680</td>\n",
       "      <td>23.020</td>\n",
       "      <td>86.835</td>\n",
       "      <td>889.386</td>\n",
       "      <td>19.640</td>\n",
       "      <td>26.300</td>\n",
       "      <td>49.130</td>\n",
       "      <td>518.127</td>\n",
       "    </tr>\n",
       "    <tr>\n",
       "      <th>2</th>\n",
       "      <td>10</td>\n",
       "      <td>35.470</td>\n",
       "      <td>72.275</td>\n",
       "      <td>115.975</td>\n",
       "      <td>349.197</td>\n",
       "      <td>8.723</td>\n",
       "      <td>14.305</td>\n",
       "      <td>19.593</td>\n",
       "      <td>43.924</td>\n",
       "    </tr>\n",
       "  </tbody>\n",
       "</table>\n",
       "</div>"
      ],
      "text/plain": [
       "   google_split  core_25  core_50  core_75  core_99  google_25  google_50  \\\n",
       "0            20   18.665   34.660  112.160  576.350     25.745     46.700   \n",
       "1            15    4.680   23.020   86.835  889.386     19.640     26.300   \n",
       "2            10   35.470   72.275  115.975  349.197      8.723     14.305   \n",
       "\n",
       "   google_75  google_99  \n",
       "0    138.635    407.163  \n",
       "1     49.130    518.127  \n",
       "2     19.593     43.924  "
      ]
     },
     "execution_count": 23,
     "metadata": {},
     "output_type": "execute_result"
    }
   ],
   "source": [
    "## ciekawe wnioski - ci ktorym obnizylismy google wydaja w core wiecej (mediana) ale najwiekszych zostawilismy (99. percentyl)\n",
    "## analogicznie dla gooogle\n",
    "## cci ktorym podnieslismy split w core tez wydaja nieco wiecej, w druga strone to nie dziala\n",
    "reve_change.toPandas()"
   ]
  },
  {
   "cell_type": "markdown",
   "metadata": {},
   "source": [
    "## ROI"
   ]
  },
  {
   "cell_type": "code",
   "execution_count": 24,
   "metadata": {
    "collapsed": true
   },
   "outputs": [],
   "source": [
    "total_roi = (split_table\n",
    "             .join(adgroup_stats, 'adgroup_id', 'inner')\n",
    "             .join(mda, 'adgroup_id', 'inner')\n",
    "             .join(adgroup_gmv, 'adgroup_id', 'inner') ## tylko adgrupy z wydatkami i gmv\n",
    "             .withColumn('google_budget', col('google_split') * col('budget')/100)\n",
    "             .withColumn('core_budget', col('core_split') * col('budget')/100)\n",
    "             .withColumn('google_roi', col('google_gmv')/col('google'))\n",
    "             .withColumn('core_roi', col('rest_gmv')/col('rest'))\n",
    "        )"
   ]
  },
  {
   "cell_type": "code",
   "execution_count": 25,
   "metadata": {
    "collapsed": true
   },
   "outputs": [],
   "source": [
    "roi_change = (total_roi\n",
    "              .groupBy('google_split')\n",
    "              .agg(expr(\"percentile(core_roi, 0.25)\").alias('core_25')\n",
    "                   , expr(\"percentile(core_roi, 0.5)\").alias('core_50')\n",
    "                   , expr(\"percentile(core_roi, 0.75)\").alias('core_75')\n",
    "                   , expr(\"percentile(core_roi, 0.99)\").alias('core_99')\n",
    "                   , expr(\"percentile(google_roi, 0.25)\").alias('google_25')\n",
    "                   , expr(\"percentile(google_roi, 0.5)\").alias('google_50')\n",
    "                   , expr(\"percentile(google_roi, 0.75)\").alias('google_75')\n",
    "                   , expr(\"percentile(google_roi, 0.99)\").alias('google_99')\n",
    "                   , count('adgroup_id').alias('cnt')\n",
    "                  )\n",
    "             )"
   ]
  },
  {
   "cell_type": "code",
   "execution_count": 26,
   "metadata": {},
   "outputs": [
    {
     "data": {
      "text/html": [
       "<div>\n",
       "<style scoped>\n",
       "    .dataframe tbody tr th:only-of-type {\n",
       "        vertical-align: middle;\n",
       "    }\n",
       "\n",
       "    .dataframe tbody tr th {\n",
       "        vertical-align: top;\n",
       "    }\n",
       "\n",
       "    .dataframe thead th {\n",
       "        text-align: right;\n",
       "    }\n",
       "</style>\n",
       "<table border=\"1\" class=\"dataframe\">\n",
       "  <thead>\n",
       "    <tr style=\"text-align: right;\">\n",
       "      <th></th>\n",
       "      <th>google_split</th>\n",
       "      <th>core_25</th>\n",
       "      <th>core_50</th>\n",
       "      <th>core_75</th>\n",
       "      <th>core_99</th>\n",
       "      <th>google_25</th>\n",
       "      <th>google_50</th>\n",
       "      <th>google_75</th>\n",
       "      <th>google_99</th>\n",
       "      <th>cnt</th>\n",
       "    </tr>\n",
       "  </thead>\n",
       "  <tbody>\n",
       "    <tr>\n",
       "      <th>0</th>\n",
       "      <td>20</td>\n",
       "      <td>7.282</td>\n",
       "      <td>11.240</td>\n",
       "      <td>18.544</td>\n",
       "      <td>75.570</td>\n",
       "      <td>2.883</td>\n",
       "      <td>5.715</td>\n",
       "      <td>10.467</td>\n",
       "      <td>28.690</td>\n",
       "      <td>66</td>\n",
       "    </tr>\n",
       "    <tr>\n",
       "      <th>1</th>\n",
       "      <td>15</td>\n",
       "      <td>4.875</td>\n",
       "      <td>9.873</td>\n",
       "      <td>21.050</td>\n",
       "      <td>248.200</td>\n",
       "      <td>2.753</td>\n",
       "      <td>5.808</td>\n",
       "      <td>11.984</td>\n",
       "      <td>91.983</td>\n",
       "      <td>22237</td>\n",
       "    </tr>\n",
       "    <tr>\n",
       "      <th>2</th>\n",
       "      <td>10</td>\n",
       "      <td>6.451</td>\n",
       "      <td>10.270</td>\n",
       "      <td>21.662</td>\n",
       "      <td>137.873</td>\n",
       "      <td>4.369</td>\n",
       "      <td>9.534</td>\n",
       "      <td>14.869</td>\n",
       "      <td>70.678</td>\n",
       "      <td>61</td>\n",
       "    </tr>\n",
       "  </tbody>\n",
       "</table>\n",
       "</div>"
      ],
      "text/plain": [
       "   google_split  core_25  core_50  core_75  core_99  google_25  google_50  \\\n",
       "0            20    7.282   11.240   18.544   75.570      2.883      5.715   \n",
       "1            15    4.875    9.873   21.050  248.200      2.753      5.808   \n",
       "2            10    6.451   10.270   21.662  137.873      4.369      9.534   \n",
       "\n",
       "   google_75  google_99    cnt  \n",
       "0     10.467     28.690     66  \n",
       "1     11.984     91.983  22237  \n",
       "2     14.869     70.678     61  "
      ]
     },
     "execution_count": 26,
     "metadata": {},
     "output_type": "execute_result"
    }
   ],
   "source": [
    "## tu jest cos dziwnego - roi w google tych, ktorym zmniejszylismy split jest prawie 2x lepsze\n",
    "roi_change.toPandas()"
   ]
  },
  {
   "cell_type": "code",
   "execution_count": null,
   "metadata": {
    "collapsed": true
   },
   "outputs": [],
   "source": []
  },
  {
   "cell_type": "code",
   "execution_count": null,
   "metadata": {
    "collapsed": true
   },
   "outputs": [],
   "source": []
  }
 ],
 "metadata": {
  "kernelspec": {
   "display_name": "Python [default]",
   "language": "python",
   "name": "python3"
  },
  "language_info": {
   "codemirror_mode": {
    "name": "ipython",
    "version": 3
   },
   "file_extension": ".py",
   "mimetype": "text/x-python",
   "name": "python",
   "nbconvert_exporter": "python",
   "pygments_lexer": "ipython3",
   "version": "3.6.2"
  }
 },
 "nbformat": 4,
 "nbformat_minor": 2
}
