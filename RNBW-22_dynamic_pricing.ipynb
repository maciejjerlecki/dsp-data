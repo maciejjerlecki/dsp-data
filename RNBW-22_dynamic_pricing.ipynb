{
 "cells": [
  {
   "cell_type": "code",
   "execution_count": 1,
   "metadata": {},
   "outputs": [
    {
     "data": {
      "text/html": [
       "<style>.container { width:90% !important; }</style>"
      ],
      "text/plain": [
       "<IPython.core.display.HTML object>"
      ]
     },
     "metadata": {},
     "output_type": "display_data"
    },
    {
     "name": "stdout",
     "output_type": "stream",
     "text": [
      "Spark version selected: 2.4.7_2.12, py4j version selected: 0.10.7\n"
     ]
    }
   ],
   "source": [
    "import os, sys\n",
    "if 'ipykernel' in sys.argv[0]:\n",
    "    from IPython.core.display import display, HTML\n",
    "    display(HTML(\"<style>.container { width:90% !important; }</style>\"))\n",
    "    get_ipython().magic('load_ext sparkver')\n",
    "    get_ipython().magic('sparkver')"
   ]
  },
  {
   "cell_type": "code",
   "execution_count": 2,
   "metadata": {},
   "outputs": [
    {
     "name": "stdout",
     "output_type": "stream",
     "text": [
      "Application master: http://rm.hadoop.qxlint:8088/proxy/application_1631340653096_556028\n"
     ]
    }
   ],
   "source": [
    "APP_NAME = 'piekny notebook'\n",
    "QUEUE = 'ads_data'\n",
    "EXECUTOR_MEMORY = '8g'\n",
    "EXECUTOR_OVERHEAD = 2048\n",
    "EXECUTOR_CORES = 8\n",
    "EXECUTORS = 50\n",
    "DRIVER_MEMORY = '8g'\n",
    "\n",
    "from pyspark.sql.session import SparkSession\n",
    "from pyspark.sql.functions import *\n",
    "from time import time, strftime\n",
    "from datetime import datetime, timedelta\n",
    "import datetime\n",
    "from pyspark.sql.types import *\n",
    "from pyspark.sql.window import Window\n",
    "from pyspark import StorageLevel\n",
    "\n",
    "spark = (SparkSession.builder\n",
    "    .appName(APP_NAME)\n",
    "    .config('spark.yarn.queue', QUEUE)\n",
    "    .config('spark.executor.memory', EXECUTOR_MEMORY)\n",
    "    .config('spark.executor.cores', EXECUTOR_CORES)\n",
    "    .config('spark.dynamicAllocation.enabled','true')\n",
    "    .config('spark.dynamicAllocation.initialExecutors', 8)\n",
    "    .config('spark.dynamicAllocation.minExecutors', 1)\n",
    "    .config('spark.dynamicAllocation.maxExecutors', EXECUTORS)\n",
    "    .config('spark.dynamicAllocation.schedulerBacklogTimeout', '3s')\n",
    "    .config('spark.dynamicAllocation.executorIdleTimeout', '120s')\n",
    "    .config('spark.shuffle.service.enabled','true')\n",
    "    .config('spark.shuffle.service.port', 7337)\n",
    "    .config('spark.yarn.executor.memoryOverhead', EXECUTOR_OVERHEAD)\n",
    "    .config('spark.yarn.appMasterEnv.JAVA_HOME', '/opt/jre1.8.0')\n",
    "    .config('spark.executorEnv.JAVA_HOME', '/opt/jre1.8.0')\n",
    "    .config('spark.speculation', 'true')\n",
    "    .config('spark.driver.memory', DRIVER_MEMORY)\n",
    "    .config('spark.driver.maxResultSize', '20g')\n",
    "    .enableHiveSupport()\n",
    "    .getOrCreate())\n",
    "print('Application master: http://rm.hadoop.qxlint:8088/proxy/%s' % spark.sparkContext.applicationId)\n"
   ]
  },
  {
   "cell_type": "code",
   "execution_count": 3,
   "metadata": {
    "collapsed": true
   },
   "outputs": [],
   "source": [
    "import pandas as pd\n",
    "import numpy as np"
   ]
  },
  {
   "cell_type": "code",
   "execution_count": 4,
   "metadata": {},
   "outputs": [
    {
     "name": "stdout",
     "output_type": "stream",
     "text": [
      "0.21.1\n"
     ]
    }
   ],
   "source": [
    "import requests\n",
    "print(pd.__version__)"
   ]
  },
  {
   "cell_type": "code",
   "execution_count": 5,
   "metadata": {
    "collapsed": true
   },
   "outputs": [],
   "source": [
    "import matplotlib\n",
    "import matplotlib.pyplot as plt\n",
    "from matplotlib.pyplot import figure\n",
    "\n",
    "\n",
    "\n",
    "%matplotlib inline"
   ]
  },
  {
   "cell_type": "code",
   "execution_count": 6,
   "metadata": {
    "collapsed": true
   },
   "outputs": [],
   "source": [
    "yest=(datetime.datetime.now()+timedelta(days=-1)).strftime(\"%Y-%m-%d\")"
   ]
  },
  {
   "cell_type": "code",
   "execution_count": 44,
   "metadata": {
    "collapsed": true
   },
   "outputs": [],
   "source": [
    "fromDate = (datetime.datetime.now()+timedelta(days=-7)).strftime(\"%Y-%m-%d\")\n",
    "toDate = (datetime.datetime.now()+timedelta(days=-1)).strftime(\"%Y-%m-%d\")"
   ]
  },
  {
   "cell_type": "code",
   "execution_count": 75,
   "metadata": {},
   "outputs": [
    {
     "name": "stdout",
     "output_type": "stream",
     "text": [
      "2021-09-16 2021-09-22\n"
     ]
    }
   ],
   "source": [
    "print(fromDate, toDate)"
   ]
  },
  {
   "cell_type": "code",
   "execution_count": 45,
   "metadata": {
    "collapsed": true
   },
   "outputs": [],
   "source": [
    "pd.set_option('display.max_colwidth', 99999)\n",
    "pd.set_option('display.max_columns', 999)\n",
    "pd.set_option('display.float_format', lambda x: '%.3f' % x)"
   ]
  },
  {
   "cell_type": "code",
   "execution_count": 47,
   "metadata": {
    "collapsed": true
   },
   "outputs": [],
   "source": [
    "premium_views = (spark.table('datahub.pl_allegro_advertising_ppc_insights_premium_view')\n",
    "                 .where(col('dt').between(fromDate, toDate))\n",
    "                 .groupBy(round(col('effective_cpm'), 0).alias('cpm_rounded'))\n",
    "                 .agg(count('*').alias('cnt'))\n",
    "                 .sort(col('cpm_rounded').asc())\n",
    "                )"
   ]
  },
  {
   "cell_type": "code",
   "execution_count": 48,
   "metadata": {
    "collapsed": true
   },
   "outputs": [],
   "source": [
    "df_pandas = premium_views.toPandas()"
   ]
  },
  {
   "cell_type": "code",
   "execution_count": 49,
   "metadata": {},
   "outputs": [
    {
     "data": {
      "text/plain": [
       "77240202"
      ]
     },
     "execution_count": 49,
     "metadata": {},
     "output_type": "execute_result"
    }
   ],
   "source": [
    "df_pandas['cnt'].sum()"
   ]
  },
  {
   "cell_type": "code",
   "execution_count": 50,
   "metadata": {
    "collapsed": true
   },
   "outputs": [],
   "source": [
    "df_pandas['cnt_sum'] = df_pandas['cnt'].cumsum()/df_pandas['cnt'].sum()"
   ]
  },
  {
   "cell_type": "code",
   "execution_count": 51,
   "metadata": {},
   "outputs": [
    {
     "data": {
      "text/html": [
       "<div>\n",
       "<style scoped>\n",
       "    .dataframe tbody tr th:only-of-type {\n",
       "        vertical-align: middle;\n",
       "    }\n",
       "\n",
       "    .dataframe tbody tr th {\n",
       "        vertical-align: top;\n",
       "    }\n",
       "\n",
       "    .dataframe thead th {\n",
       "        text-align: right;\n",
       "    }\n",
       "</style>\n",
       "<table border=\"1\" class=\"dataframe\">\n",
       "  <thead>\n",
       "    <tr style=\"text-align: right;\">\n",
       "      <th></th>\n",
       "      <th>cpm_rounded</th>\n",
       "      <th>cnt</th>\n",
       "      <th>cnt_sum</th>\n",
       "    </tr>\n",
       "  </thead>\n",
       "  <tbody>\n",
       "    <tr>\n",
       "      <th>0</th>\n",
       "      <td>0.000</td>\n",
       "      <td>448025</td>\n",
       "      <td>0.006</td>\n",
       "    </tr>\n",
       "    <tr>\n",
       "      <th>1</th>\n",
       "      <td>9.000</td>\n",
       "      <td>36911565</td>\n",
       "      <td>0.484</td>\n",
       "    </tr>\n",
       "    <tr>\n",
       "      <th>2</th>\n",
       "      <td>10.000</td>\n",
       "      <td>3451943</td>\n",
       "      <td>0.528</td>\n",
       "    </tr>\n",
       "    <tr>\n",
       "      <th>3</th>\n",
       "      <td>11.000</td>\n",
       "      <td>3989284</td>\n",
       "      <td>0.580</td>\n",
       "    </tr>\n",
       "    <tr>\n",
       "      <th>4</th>\n",
       "      <td>12.000</td>\n",
       "      <td>6520642</td>\n",
       "      <td>0.664</td>\n",
       "    </tr>\n",
       "    <tr>\n",
       "      <th>5</th>\n",
       "      <td>13.000</td>\n",
       "      <td>3340762</td>\n",
       "      <td>0.708</td>\n",
       "    </tr>\n",
       "    <tr>\n",
       "      <th>6</th>\n",
       "      <td>14.000</td>\n",
       "      <td>3078453</td>\n",
       "      <td>0.748</td>\n",
       "    </tr>\n",
       "    <tr>\n",
       "      <th>7</th>\n",
       "      <td>15.000</td>\n",
       "      <td>3296002</td>\n",
       "      <td>0.790</td>\n",
       "    </tr>\n",
       "    <tr>\n",
       "      <th>8</th>\n",
       "      <td>16.000</td>\n",
       "      <td>1971790</td>\n",
       "      <td>0.816</td>\n",
       "    </tr>\n",
       "    <tr>\n",
       "      <th>9</th>\n",
       "      <td>17.000</td>\n",
       "      <td>1813071</td>\n",
       "      <td>0.839</td>\n",
       "    </tr>\n",
       "    <tr>\n",
       "      <th>10</th>\n",
       "      <td>18.000</td>\n",
       "      <td>1538932</td>\n",
       "      <td>0.859</td>\n",
       "    </tr>\n",
       "    <tr>\n",
       "      <th>11</th>\n",
       "      <td>19.000</td>\n",
       "      <td>1231573</td>\n",
       "      <td>0.875</td>\n",
       "    </tr>\n",
       "    <tr>\n",
       "      <th>12</th>\n",
       "      <td>20.000</td>\n",
       "      <td>1548981</td>\n",
       "      <td>0.895</td>\n",
       "    </tr>\n",
       "    <tr>\n",
       "      <th>13</th>\n",
       "      <td>21.000</td>\n",
       "      <td>726077</td>\n",
       "      <td>0.905</td>\n",
       "    </tr>\n",
       "    <tr>\n",
       "      <th>14</th>\n",
       "      <td>22.000</td>\n",
       "      <td>719239</td>\n",
       "      <td>0.914</td>\n",
       "    </tr>\n",
       "    <tr>\n",
       "      <th>15</th>\n",
       "      <td>23.000</td>\n",
       "      <td>629312</td>\n",
       "      <td>0.922</td>\n",
       "    </tr>\n",
       "    <tr>\n",
       "      <th>16</th>\n",
       "      <td>24.000</td>\n",
       "      <td>630263</td>\n",
       "      <td>0.930</td>\n",
       "    </tr>\n",
       "    <tr>\n",
       "      <th>17</th>\n",
       "      <td>25.000</td>\n",
       "      <td>735299</td>\n",
       "      <td>0.940</td>\n",
       "    </tr>\n",
       "    <tr>\n",
       "      <th>18</th>\n",
       "      <td>26.000</td>\n",
       "      <td>377454</td>\n",
       "      <td>0.945</td>\n",
       "    </tr>\n",
       "    <tr>\n",
       "      <th>19</th>\n",
       "      <td>27.000</td>\n",
       "      <td>346758</td>\n",
       "      <td>0.949</td>\n",
       "    </tr>\n",
       "  </tbody>\n",
       "</table>\n",
       "</div>"
      ],
      "text/plain": [
       "    cpm_rounded       cnt  cnt_sum\n",
       "0         0.000    448025    0.006\n",
       "1         9.000  36911565    0.484\n",
       "2        10.000   3451943    0.528\n",
       "3        11.000   3989284    0.580\n",
       "4        12.000   6520642    0.664\n",
       "5        13.000   3340762    0.708\n",
       "6        14.000   3078453    0.748\n",
       "7        15.000   3296002    0.790\n",
       "8        16.000   1971790    0.816\n",
       "9        17.000   1813071    0.839\n",
       "10       18.000   1538932    0.859\n",
       "11       19.000   1231573    0.875\n",
       "12       20.000   1548981    0.895\n",
       "13       21.000    726077    0.905\n",
       "14       22.000    719239    0.914\n",
       "15       23.000    629312    0.922\n",
       "16       24.000    630263    0.930\n",
       "17       25.000    735299    0.940\n",
       "18       26.000    377454    0.945\n",
       "19       27.000    346758    0.949"
      ]
     },
     "execution_count": 51,
     "metadata": {},
     "output_type": "execute_result"
    }
   ],
   "source": [
    "df_pandas.head(20)"
   ]
  },
  {
   "cell_type": "code",
   "execution_count": 52,
   "metadata": {},
   "outputs": [
    {
     "data": {
      "image/png": "[encoded data removed]",
      "text/plain": [
       "<matplotlib.figure.Figure at 0x7f3530a4f630>"
      ]
     },
     "metadata": {},
     "output_type": "display_data"
    }
   ],
   "source": [
    "# x = df_pandas['cnt']\n",
    "# x.plot()\n",
    "\n",
    "# plt.plot('cpm_rounded', 'cnt', data=df_pandas)\n",
    "# secax = plt.plot.secondary_axis('cpm_rounded', 'cnt', data=df_pandas)\n",
    "\n",
    "# plt.plot('cpm_rounded', 'cnt_sum', data=df_pandas)\n",
    "# plt.figure(figsize=(19, 13), dpi=80)\n",
    "fig, ax1 = plt.subplots(figsize=(20, 10))\n",
    "\n",
    "ax2 = ax1.twinx()\n",
    "ax1.plot('cpm_rounded', 'cnt', data=df_pandas, color='g')\n",
    "ax2.plot('cpm_rounded', 'cnt_sum', data=df_pandas, color = 'b')\n",
    "\n",
    "ax1.set_xlabel('CPM rounded')\n",
    "ax1.set_ylabel('Count of views', color='g')\n",
    "ax2.set_ylabel('Cumulated sum of views', color='b')\n",
    "\n",
    "\n",
    "plt.show()"
   ]
  },
  {
   "cell_type": "code",
   "execution_count": 53,
   "metadata": {},
   "outputs": [],
   "source": [
    "premium_views_placement = (spark.table('datahub.pl_allegro_advertising_ppc_insights_premium_view')\n",
    "                           .where(col('dt').between(fromDate, toDate))\n",
    "                           .withColumn('placement_grouped'\n",
    "                                       , when(col('placement').like('%listing%'), 'listing').otherwise(\n",
    "                                           when(col('placement').like('%showitem%'), 'showitem').otherwise(\n",
    "                                            when(col('placement').like('%leftpanel%'), 'leftpanel').otherwise(\"other\")\n",
    "                                       )\n",
    "                                      )\n",
    "                                      )\n",
    "                           .groupBy(round(col('effective_cpm'), 0).alias('cpm_rounded'))\n",
    "                           .pivot('placement_grouped')\n",
    "                           .agg(count('*').alias('cnt'))\n",
    "                           .sort(col('cpm_rounded').asc())\n",
    "                          )"
   ]
  },
  {
   "cell_type": "code",
   "execution_count": 54,
   "metadata": {
    "collapsed": true
   },
   "outputs": [],
   "source": [
    "premium_views_placement_pandas = premium_views_placement.toPandas()"
   ]
  },
  {
   "cell_type": "code",
   "execution_count": 55,
   "metadata": {},
   "outputs": [],
   "source": [
    "premium_views_placement_pandas['leftpanel_sum'] = premium_views_placement_pandas['leftpanel'].cumsum()/premium_views_placement_pandas['leftpanel'].sum()\n",
    "premium_views_placement_pandas['listing_sum'] = premium_views_placement_pandas['listing'].cumsum()/premium_views_placement_pandas['listing'].sum()\n",
    "premium_views_placement_pandas['showitem_sum'] = premium_views_placement_pandas['showitem'].cumsum()/premium_views_placement_pandas['showitem'].sum()"
   ]
  },
  {
   "cell_type": "code",
   "execution_count": 66,
   "metadata": {},
   "outputs": [
    {
     "data": {
      "text/plain": [
       "0.23012817858762202"
      ]
     },
     "execution_count": 66,
     "metadata": {},
     "output_type": "execute_result"
    }
   ],
   "source": [
    "lf_ratio = (premium_views_placement_pandas['leftpanel'].sum()/\n",
    "            (premium_views_placement_pandas['leftpanel'].sum() + \n",
    "             premium_views_placement_pandas['listing'].sum() + \n",
    "             premium_views_placement_pandas['showitem'].sum())\n",
    "           )\n",
    "\n",
    "lf_ratio"
   ]
  },
  {
   "cell_type": "code",
   "execution_count": 67,
   "metadata": {},
   "outputs": [
    {
     "data": {
      "text/plain": [
       "0.69829443221808252"
      ]
     },
     "execution_count": 67,
     "metadata": {},
     "output_type": "execute_result"
    }
   ],
   "source": [
    "li_ratio = (premium_views_placement_pandas['listing'].sum()/\n",
    "            (premium_views_placement_pandas['leftpanel'].sum() + \n",
    "             premium_views_placement_pandas['listing'].sum() + \n",
    "             premium_views_placement_pandas['showitem'].sum())\n",
    "           )\n",
    "\n",
    "li_ratio"
   ]
  },
  {
   "cell_type": "code",
   "execution_count": 68,
   "metadata": {},
   "outputs": [
    {
     "data": {
      "text/plain": [
       "0.071577389194295474"
      ]
     },
     "execution_count": 68,
     "metadata": {},
     "output_type": "execute_result"
    }
   ],
   "source": [
    "si_ratio = (premium_views_placement_pandas['showitem'].sum()\n",
    "            /(premium_views_placement_pandas['leftpanel'].sum() +\n",
    "              premium_views_placement_pandas['listing'].sum() + \n",
    "              premium_views_placement_pandas['showitem'].sum())\n",
    "           )\n",
    "\n",
    "si_ratio"
   ]
  },
  {
   "cell_type": "code",
   "execution_count": 71,
   "metadata": {},
   "outputs": [],
   "source": [
    "lf_min_cpm = premium_views_placement_pandas['leftpanel_sum'][1]\n",
    "li_min_cpm = premium_views_placement_pandas['listing_sum'][1]\n",
    "si_min_cpm = premium_views_placement_pandas['showitem_sum'][1]"
   ]
  },
  {
   "cell_type": "code",
   "execution_count": 72,
   "metadata": {},
   "outputs": [
    {
     "data": {
      "text/plain": [
       "0.065536182828729528"
      ]
     },
     "execution_count": 72,
     "metadata": {},
     "output_type": "execute_result"
    }
   ],
   "source": [
    "lf_ratio * lf_min_cpm"
   ]
  },
  {
   "cell_type": "code",
   "execution_count": 73,
   "metadata": {},
   "outputs": [
    {
     "data": {
      "text/plain": [
       "0.38787201773501323"
      ]
     },
     "execution_count": 73,
     "metadata": {},
     "output_type": "execute_result"
    }
   ],
   "source": [
    "li_ratio * li_min_cpm"
   ]
  },
  {
   "cell_type": "code",
   "execution_count": 74,
   "metadata": {},
   "outputs": [
    {
     "data": {
      "text/plain": [
       "0.030272435072088495"
      ]
     },
     "execution_count": 74,
     "metadata": {},
     "output_type": "execute_result"
    }
   ],
   "source": [
    "si_ratio * si_min_cpm"
   ]
  },
  {
   "cell_type": "code",
   "execution_count": 56,
   "metadata": {},
   "outputs": [
    {
     "data": {
      "text/html": [
       "<div>\n",
       "<style scoped>\n",
       "    .dataframe tbody tr th:only-of-type {\n",
       "        vertical-align: middle;\n",
       "    }\n",
       "\n",
       "    .dataframe tbody tr th {\n",
       "        vertical-align: top;\n",
       "    }\n",
       "\n",
       "    .dataframe thead th {\n",
       "        text-align: right;\n",
       "    }\n",
       "</style>\n",
       "<table border=\"1\" class=\"dataframe\">\n",
       "  <thead>\n",
       "    <tr style=\"text-align: right;\">\n",
       "      <th></th>\n",
       "      <th>cpm_rounded</th>\n",
       "      <th>leftpanel</th>\n",
       "      <th>listing</th>\n",
       "      <th>showitem</th>\n",
       "      <th>leftpanel_sum</th>\n",
       "      <th>listing_sum</th>\n",
       "      <th>showitem_sum</th>\n",
       "    </tr>\n",
       "  </thead>\n",
       "  <tbody>\n",
       "    <tr>\n",
       "      <th>0</th>\n",
       "      <td>0.000</td>\n",
       "      <td>10902</td>\n",
       "      <td>428814</td>\n",
       "      <td>8309</td>\n",
       "      <td>0.001</td>\n",
       "      <td>0.008</td>\n",
       "      <td>0.002</td>\n",
       "    </tr>\n",
       "    <tr>\n",
       "      <th>1</th>\n",
       "      <td>9.000</td>\n",
       "      <td>5051126</td>\n",
       "      <td>29530499</td>\n",
       "      <td>2329940</td>\n",
       "      <td>0.285</td>\n",
       "      <td>0.555</td>\n",
       "      <td>0.423</td>\n",
       "    </tr>\n",
       "    <tr>\n",
       "      <th>2</th>\n",
       "      <td>10.000</td>\n",
       "      <td>1035952</td>\n",
       "      <td>2154339</td>\n",
       "      <td>261652</td>\n",
       "      <td>0.343</td>\n",
       "      <td>0.595</td>\n",
       "      <td>0.470</td>\n",
       "    </tr>\n",
       "    <tr>\n",
       "      <th>3</th>\n",
       "      <td>11.000</td>\n",
       "      <td>1173145</td>\n",
       "      <td>2556539</td>\n",
       "      <td>259600</td>\n",
       "      <td>0.409</td>\n",
       "      <td>0.643</td>\n",
       "      <td>0.517</td>\n",
       "    </tr>\n",
       "    <tr>\n",
       "      <th>4</th>\n",
       "      <td>12.000</td>\n",
       "      <td>1805439</td>\n",
       "      <td>4208974</td>\n",
       "      <td>506229</td>\n",
       "      <td>0.511</td>\n",
       "      <td>0.721</td>\n",
       "      <td>0.609</td>\n",
       "    </tr>\n",
       "    <tr>\n",
       "      <th>5</th>\n",
       "      <td>13.000</td>\n",
       "      <td>1005123</td>\n",
       "      <td>2060734</td>\n",
       "      <td>274905</td>\n",
       "      <td>0.567</td>\n",
       "      <td>0.759</td>\n",
       "      <td>0.659</td>\n",
       "    </tr>\n",
       "    <tr>\n",
       "      <th>6</th>\n",
       "      <td>14.000</td>\n",
       "      <td>985411</td>\n",
       "      <td>1837716</td>\n",
       "      <td>255326</td>\n",
       "      <td>0.623</td>\n",
       "      <td>0.793</td>\n",
       "      <td>0.705</td>\n",
       "    </tr>\n",
       "    <tr>\n",
       "      <th>7</th>\n",
       "      <td>15.000</td>\n",
       "      <td>1098949</td>\n",
       "      <td>1928486</td>\n",
       "      <td>268567</td>\n",
       "      <td>0.684</td>\n",
       "      <td>0.829</td>\n",
       "      <td>0.753</td>\n",
       "    </tr>\n",
       "    <tr>\n",
       "      <th>8</th>\n",
       "      <td>16.000</td>\n",
       "      <td>670402</td>\n",
       "      <td>1114077</td>\n",
       "      <td>187311</td>\n",
       "      <td>0.722</td>\n",
       "      <td>0.850</td>\n",
       "      <td>0.787</td>\n",
       "    </tr>\n",
       "    <tr>\n",
       "      <th>9</th>\n",
       "      <td>17.000</td>\n",
       "      <td>620476</td>\n",
       "      <td>1042377</td>\n",
       "      <td>150218</td>\n",
       "      <td>0.757</td>\n",
       "      <td>0.869</td>\n",
       "      <td>0.814</td>\n",
       "    </tr>\n",
       "    <tr>\n",
       "      <th>10</th>\n",
       "      <td>18.000</td>\n",
       "      <td>546092</td>\n",
       "      <td>865252</td>\n",
       "      <td>127588</td>\n",
       "      <td>0.788</td>\n",
       "      <td>0.885</td>\n",
       "      <td>0.837</td>\n",
       "    </tr>\n",
       "    <tr>\n",
       "      <th>11</th>\n",
       "      <td>19.000</td>\n",
       "      <td>408907</td>\n",
       "      <td>717858</td>\n",
       "      <td>104808</td>\n",
       "      <td>0.811</td>\n",
       "      <td>0.898</td>\n",
       "      <td>0.856</td>\n",
       "    </tr>\n",
       "    <tr>\n",
       "      <th>12</th>\n",
       "      <td>20.000</td>\n",
       "      <td>435341</td>\n",
       "      <td>974082</td>\n",
       "      <td>139558</td>\n",
       "      <td>0.835</td>\n",
       "      <td>0.916</td>\n",
       "      <td>0.882</td>\n",
       "    </tr>\n",
       "    <tr>\n",
       "      <th>13</th>\n",
       "      <td>21.000</td>\n",
       "      <td>251099</td>\n",
       "      <td>407273</td>\n",
       "      <td>67705</td>\n",
       "      <td>0.849</td>\n",
       "      <td>0.924</td>\n",
       "      <td>0.894</td>\n",
       "    </tr>\n",
       "    <tr>\n",
       "      <th>14</th>\n",
       "      <td>22.000</td>\n",
       "      <td>242553</td>\n",
       "      <td>417682</td>\n",
       "      <td>59004</td>\n",
       "      <td>0.863</td>\n",
       "      <td>0.932</td>\n",
       "      <td>0.905</td>\n",
       "    </tr>\n",
       "    <tr>\n",
       "      <th>15</th>\n",
       "      <td>23.000</td>\n",
       "      <td>214069</td>\n",
       "      <td>366067</td>\n",
       "      <td>49176</td>\n",
       "      <td>0.875</td>\n",
       "      <td>0.938</td>\n",
       "      <td>0.913</td>\n",
       "    </tr>\n",
       "    <tr>\n",
       "      <th>16</th>\n",
       "      <td>24.000</td>\n",
       "      <td>204608</td>\n",
       "      <td>376113</td>\n",
       "      <td>49542</td>\n",
       "      <td>0.887</td>\n",
       "      <td>0.945</td>\n",
       "      <td>0.922</td>\n",
       "    </tr>\n",
       "    <tr>\n",
       "      <th>17</th>\n",
       "      <td>25.000</td>\n",
       "      <td>245365</td>\n",
       "      <td>428092</td>\n",
       "      <td>61842</td>\n",
       "      <td>0.900</td>\n",
       "      <td>0.953</td>\n",
       "      <td>0.934</td>\n",
       "    </tr>\n",
       "    <tr>\n",
       "      <th>18</th>\n",
       "      <td>26.000</td>\n",
       "      <td>156099</td>\n",
       "      <td>186190</td>\n",
       "      <td>35165</td>\n",
       "      <td>0.909</td>\n",
       "      <td>0.957</td>\n",
       "      <td>0.940</td>\n",
       "    </tr>\n",
       "    <tr>\n",
       "      <th>19</th>\n",
       "      <td>27.000</td>\n",
       "      <td>118391</td>\n",
       "      <td>201986</td>\n",
       "      <td>26381</td>\n",
       "      <td>0.916</td>\n",
       "      <td>0.960</td>\n",
       "      <td>0.945</td>\n",
       "    </tr>\n",
       "  </tbody>\n",
       "</table>\n",
       "</div>"
      ],
      "text/plain": [
       "    cpm_rounded  leftpanel   listing  showitem  leftpanel_sum  listing_sum  \\\n",
       "0         0.000      10902    428814      8309          0.001        0.008   \n",
       "1         9.000    5051126  29530499   2329940          0.285        0.555   \n",
       "2        10.000    1035952   2154339    261652          0.343        0.595   \n",
       "3        11.000    1173145   2556539    259600          0.409        0.643   \n",
       "4        12.000    1805439   4208974    506229          0.511        0.721   \n",
       "5        13.000    1005123   2060734    274905          0.567        0.759   \n",
       "6        14.000     985411   1837716    255326          0.623        0.793   \n",
       "7        15.000    1098949   1928486    268567          0.684        0.829   \n",
       "8        16.000     670402   1114077    187311          0.722        0.850   \n",
       "9        17.000     620476   1042377    150218          0.757        0.869   \n",
       "10       18.000     546092    865252    127588          0.788        0.885   \n",
       "11       19.000     408907    717858    104808          0.811        0.898   \n",
       "12       20.000     435341    974082    139558          0.835        0.916   \n",
       "13       21.000     251099    407273     67705          0.849        0.924   \n",
       "14       22.000     242553    417682     59004          0.863        0.932   \n",
       "15       23.000     214069    366067     49176          0.875        0.938   \n",
       "16       24.000     204608    376113     49542          0.887        0.945   \n",
       "17       25.000     245365    428092     61842          0.900        0.953   \n",
       "18       26.000     156099    186190     35165          0.909        0.957   \n",
       "19       27.000     118391    201986     26381          0.916        0.960   \n",
       "\n",
       "    showitem_sum  \n",
       "0          0.002  \n",
       "1          0.423  \n",
       "2          0.470  \n",
       "3          0.517  \n",
       "4          0.609  \n",
       "5          0.659  \n",
       "6          0.705  \n",
       "7          0.753  \n",
       "8          0.787  \n",
       "9          0.814  \n",
       "10         0.837  \n",
       "11         0.856  \n",
       "12         0.882  \n",
       "13         0.894  \n",
       "14         0.905  \n",
       "15         0.913  \n",
       "16         0.922  \n",
       "17         0.934  \n",
       "18         0.940  \n",
       "19         0.945  "
      ]
     },
     "execution_count": 56,
     "metadata": {},
     "output_type": "execute_result"
    }
   ],
   "source": [
    "premium_views_placement_pandas.head(20)\n",
    "## leftpanel ma najmniej viewsów za cpm 9"
   ]
  },
  {
   "cell_type": "code",
   "execution_count": 57,
   "metadata": {},
   "outputs": [],
   "source": [
    "premium_views_device = (spark.table('datahub.pl_allegro_advertising_ppc_insights_premium_view')\n",
    "                           .where(col('dt').between(fromDate, toDate))\n",
    "                           .withColumn('placement_grouped'\n",
    "                                       , when(col('placement').like('%desktop%'), 'desktop').otherwise(\n",
    "                                           when(col('placement').like('%mobile%'), 'rwd').otherwise(\n",
    "                                            when(col('placement').like('%ios%'), 'ios').otherwise(\n",
    "                                                when(col('placement').like('%android%'), 'android').otherwise(\"other\")\n",
    "                                       )\n",
    "                                      )\n",
    "                                      )\n",
    "                                      )\n",
    "                           .groupBy(round(col('effective_cpm'), 0).alias('cpm_rounded'))\n",
    "                           .pivot('placement_grouped')\n",
    "                           .agg(count('*').alias('cnt'))\n",
    "                           .sort(col('cpm_rounded').asc())\n",
    "                          )"
   ]
  },
  {
   "cell_type": "code",
   "execution_count": 58,
   "metadata": {
    "collapsed": true
   },
   "outputs": [],
   "source": [
    "premium_views_device_pandas = premium_views_device.toPandas()"
   ]
  },
  {
   "cell_type": "code",
   "execution_count": 59,
   "metadata": {
    "collapsed": true
   },
   "outputs": [],
   "source": [
    "premium_views_device_pandas['desktop_sum'] = premium_views_device_pandas['desktop'].cumsum()/premium_views_device_pandas['desktop'].sum()\n",
    "premium_views_device_pandas['rwd_sum'] = premium_views_device_pandas['rwd'].cumsum()/premium_views_device_pandas['rwd'].sum()\n",
    "premium_views_device_pandas['ios_sum'] = premium_views_device_pandas['ios'].cumsum()/premium_views_device_pandas['ios'].sum()\n",
    "premium_views_device_pandas['android_sum'] = premium_views_device_pandas['android'].cumsum()/premium_views_device_pandas['android'].sum()"
   ]
  },
  {
   "cell_type": "code",
   "execution_count": 60,
   "metadata": {},
   "outputs": [
    {
     "data": {
      "text/html": [
       "<div>\n",
       "<style scoped>\n",
       "    .dataframe tbody tr th:only-of-type {\n",
       "        vertical-align: middle;\n",
       "    }\n",
       "\n",
       "    .dataframe tbody tr th {\n",
       "        vertical-align: top;\n",
       "    }\n",
       "\n",
       "    .dataframe thead th {\n",
       "        text-align: right;\n",
       "    }\n",
       "</style>\n",
       "<table border=\"1\" class=\"dataframe\">\n",
       "  <thead>\n",
       "    <tr style=\"text-align: right;\">\n",
       "      <th></th>\n",
       "      <th>cpm_rounded</th>\n",
       "      <th>android</th>\n",
       "      <th>desktop</th>\n",
       "      <th>ios</th>\n",
       "      <th>other</th>\n",
       "      <th>rwd</th>\n",
       "      <th>desktop_sum</th>\n",
       "      <th>rwd_sum</th>\n",
       "      <th>ios_sum</th>\n",
       "      <th>android_sum</th>\n",
       "    </tr>\n",
       "  </thead>\n",
       "  <tbody>\n",
       "    <tr>\n",
       "      <th>0</th>\n",
       "      <td>0.000</td>\n",
       "      <td>151229</td>\n",
       "      <td>127684</td>\n",
       "      <td>47385</td>\n",
       "      <td>10902</td>\n",
       "      <td>110825</td>\n",
       "      <td>0.006</td>\n",
       "      <td>0.008</td>\n",
       "      <td>0.011</td>\n",
       "      <td>0.007</td>\n",
       "    </tr>\n",
       "    <tr>\n",
       "      <th>1</th>\n",
       "      <td>9.000</td>\n",
       "      <td>11102289</td>\n",
       "      <td>10511905</td>\n",
       "      <td>2515899</td>\n",
       "      <td>5051126</td>\n",
       "      <td>7730346</td>\n",
       "      <td>0.528</td>\n",
       "      <td>0.539</td>\n",
       "      <td>0.591</td>\n",
       "      <td>0.551</td>\n",
       "    </tr>\n",
       "    <tr>\n",
       "      <th>2</th>\n",
       "      <td>10.000</td>\n",
       "      <td>820288</td>\n",
       "      <td>812824</td>\n",
       "      <td>180064</td>\n",
       "      <td>1035952</td>\n",
       "      <td>602815</td>\n",
       "      <td>0.568</td>\n",
       "      <td>0.580</td>\n",
       "      <td>0.632</td>\n",
       "      <td>0.592</td>\n",
       "    </tr>\n",
       "    <tr>\n",
       "      <th>3</th>\n",
       "      <td>11.000</td>\n",
       "      <td>1023902</td>\n",
       "      <td>933603</td>\n",
       "      <td>201507</td>\n",
       "      <td>1173145</td>\n",
       "      <td>657127</td>\n",
       "      <td>0.614</td>\n",
       "      <td>0.625</td>\n",
       "      <td>0.679</td>\n",
       "      <td>0.642</td>\n",
       "    </tr>\n",
       "    <tr>\n",
       "      <th>4</th>\n",
       "      <td>12.000</td>\n",
       "      <td>1652970</td>\n",
       "      <td>1578369</td>\n",
       "      <td>293215</td>\n",
       "      <td>1805439</td>\n",
       "      <td>1190649</td>\n",
       "      <td>0.693</td>\n",
       "      <td>0.707</td>\n",
       "      <td>0.746</td>\n",
       "      <td>0.723</td>\n",
       "    </tr>\n",
       "    <tr>\n",
       "      <th>5</th>\n",
       "      <td>13.000</td>\n",
       "      <td>808551</td>\n",
       "      <td>812040</td>\n",
       "      <td>151563</td>\n",
       "      <td>1005123</td>\n",
       "      <td>563485</td>\n",
       "      <td>0.733</td>\n",
       "      <td>0.746</td>\n",
       "      <td>0.781</td>\n",
       "      <td>0.762</td>\n",
       "    </tr>\n",
       "    <tr>\n",
       "      <th>6</th>\n",
       "      <td>14.000</td>\n",
       "      <td>708562</td>\n",
       "      <td>718530</td>\n",
       "      <td>147685</td>\n",
       "      <td>985411</td>\n",
       "      <td>518265</td>\n",
       "      <td>0.769</td>\n",
       "      <td>0.781</td>\n",
       "      <td>0.815</td>\n",
       "      <td>0.797</td>\n",
       "    </tr>\n",
       "    <tr>\n",
       "      <th>7</th>\n",
       "      <td>15.000</td>\n",
       "      <td>702373</td>\n",
       "      <td>803269</td>\n",
       "      <td>134145</td>\n",
       "      <td>1098949</td>\n",
       "      <td>557266</td>\n",
       "      <td>0.808</td>\n",
       "      <td>0.820</td>\n",
       "      <td>0.846</td>\n",
       "      <td>0.831</td>\n",
       "    </tr>\n",
       "    <tr>\n",
       "      <th>8</th>\n",
       "      <td>16.000</td>\n",
       "      <td>432989</td>\n",
       "      <td>453533</td>\n",
       "      <td>82046</td>\n",
       "      <td>670402</td>\n",
       "      <td>332820</td>\n",
       "      <td>0.831</td>\n",
       "      <td>0.843</td>\n",
       "      <td>0.865</td>\n",
       "      <td>0.853</td>\n",
       "    </tr>\n",
       "    <tr>\n",
       "      <th>9</th>\n",
       "      <td>17.000</td>\n",
       "      <td>410741</td>\n",
       "      <td>395331</td>\n",
       "      <td>83562</td>\n",
       "      <td>620476</td>\n",
       "      <td>302961</td>\n",
       "      <td>0.850</td>\n",
       "      <td>0.863</td>\n",
       "      <td>0.884</td>\n",
       "      <td>0.873</td>\n",
       "    </tr>\n",
       "    <tr>\n",
       "      <th>10</th>\n",
       "      <td>18.000</td>\n",
       "      <td>328078</td>\n",
       "      <td>359153</td>\n",
       "      <td>61084</td>\n",
       "      <td>546092</td>\n",
       "      <td>244525</td>\n",
       "      <td>0.868</td>\n",
       "      <td>0.880</td>\n",
       "      <td>0.898</td>\n",
       "      <td>0.889</td>\n",
       "    </tr>\n",
       "    <tr>\n",
       "      <th>11</th>\n",
       "      <td>19.000</td>\n",
       "      <td>269957</td>\n",
       "      <td>300815</td>\n",
       "      <td>50020</td>\n",
       "      <td>408907</td>\n",
       "      <td>201874</td>\n",
       "      <td>0.883</td>\n",
       "      <td>0.894</td>\n",
       "      <td>0.910</td>\n",
       "      <td>0.902</td>\n",
       "    </tr>\n",
       "    <tr>\n",
       "      <th>12</th>\n",
       "      <td>20.000</td>\n",
       "      <td>370631</td>\n",
       "      <td>406156</td>\n",
       "      <td>60442</td>\n",
       "      <td>435341</td>\n",
       "      <td>276411</td>\n",
       "      <td>0.903</td>\n",
       "      <td>0.913</td>\n",
       "      <td>0.924</td>\n",
       "      <td>0.920</td>\n",
       "    </tr>\n",
       "    <tr>\n",
       "      <th>13</th>\n",
       "      <td>21.000</td>\n",
       "      <td>145200</td>\n",
       "      <td>172090</td>\n",
       "      <td>32029</td>\n",
       "      <td>251099</td>\n",
       "      <td>125659</td>\n",
       "      <td>0.912</td>\n",
       "      <td>0.922</td>\n",
       "      <td>0.931</td>\n",
       "      <td>0.927</td>\n",
       "    </tr>\n",
       "    <tr>\n",
       "      <th>14</th>\n",
       "      <td>22.000</td>\n",
       "      <td>146644</td>\n",
       "      <td>177237</td>\n",
       "      <td>31268</td>\n",
       "      <td>242553</td>\n",
       "      <td>121537</td>\n",
       "      <td>0.921</td>\n",
       "      <td>0.930</td>\n",
       "      <td>0.939</td>\n",
       "      <td>0.935</td>\n",
       "    </tr>\n",
       "    <tr>\n",
       "      <th>15</th>\n",
       "      <td>23.000</td>\n",
       "      <td>131441</td>\n",
       "      <td>152736</td>\n",
       "      <td>28211</td>\n",
       "      <td>214069</td>\n",
       "      <td>102855</td>\n",
       "      <td>0.928</td>\n",
       "      <td>0.937</td>\n",
       "      <td>0.945</td>\n",
       "      <td>0.941</td>\n",
       "    </tr>\n",
       "    <tr>\n",
       "      <th>16</th>\n",
       "      <td>24.000</td>\n",
       "      <td>150565</td>\n",
       "      <td>151993</td>\n",
       "      <td>24343</td>\n",
       "      <td>204608</td>\n",
       "      <td>98754</td>\n",
       "      <td>0.936</td>\n",
       "      <td>0.944</td>\n",
       "      <td>0.951</td>\n",
       "      <td>0.948</td>\n",
       "    </tr>\n",
       "    <tr>\n",
       "      <th>17</th>\n",
       "      <td>25.000</td>\n",
       "      <td>153293</td>\n",
       "      <td>179552</td>\n",
       "      <td>27973</td>\n",
       "      <td>245365</td>\n",
       "      <td>129116</td>\n",
       "      <td>0.945</td>\n",
       "      <td>0.953</td>\n",
       "      <td>0.957</td>\n",
       "      <td>0.956</td>\n",
       "    </tr>\n",
       "    <tr>\n",
       "      <th>18</th>\n",
       "      <td>26.000</td>\n",
       "      <td>65691</td>\n",
       "      <td>86708</td>\n",
       "      <td>12566</td>\n",
       "      <td>156099</td>\n",
       "      <td>56390</td>\n",
       "      <td>0.949</td>\n",
       "      <td>0.957</td>\n",
       "      <td>0.960</td>\n",
       "      <td>0.959</td>\n",
       "    </tr>\n",
       "    <tr>\n",
       "      <th>19</th>\n",
       "      <td>27.000</td>\n",
       "      <td>77789</td>\n",
       "      <td>77681</td>\n",
       "      <td>12780</td>\n",
       "      <td>118391</td>\n",
       "      <td>60117</td>\n",
       "      <td>0.953</td>\n",
       "      <td>0.961</td>\n",
       "      <td>0.963</td>\n",
       "      <td>0.963</td>\n",
       "    </tr>\n",
       "  </tbody>\n",
       "</table>\n",
       "</div>"
      ],
      "text/plain": [
       "    cpm_rounded   android   desktop      ios    other      rwd  desktop_sum  \\\n",
       "0         0.000    151229    127684    47385    10902   110825        0.006   \n",
       "1         9.000  11102289  10511905  2515899  5051126  7730346        0.528   \n",
       "2        10.000    820288    812824   180064  1035952   602815        0.568   \n",
       "3        11.000   1023902    933603   201507  1173145   657127        0.614   \n",
       "4        12.000   1652970   1578369   293215  1805439  1190649        0.693   \n",
       "5        13.000    808551    812040   151563  1005123   563485        0.733   \n",
       "6        14.000    708562    718530   147685   985411   518265        0.769   \n",
       "7        15.000    702373    803269   134145  1098949   557266        0.808   \n",
       "8        16.000    432989    453533    82046   670402   332820        0.831   \n",
       "9        17.000    410741    395331    83562   620476   302961        0.850   \n",
       "10       18.000    328078    359153    61084   546092   244525        0.868   \n",
       "11       19.000    269957    300815    50020   408907   201874        0.883   \n",
       "12       20.000    370631    406156    60442   435341   276411        0.903   \n",
       "13       21.000    145200    172090    32029   251099   125659        0.912   \n",
       "14       22.000    146644    177237    31268   242553   121537        0.921   \n",
       "15       23.000    131441    152736    28211   214069   102855        0.928   \n",
       "16       24.000    150565    151993    24343   204608    98754        0.936   \n",
       "17       25.000    153293    179552    27973   245365   129116        0.945   \n",
       "18       26.000     65691     86708    12566   156099    56390        0.949   \n",
       "19       27.000     77789     77681    12780   118391    60117        0.953   \n",
       "\n",
       "    rwd_sum  ios_sum  android_sum  \n",
       "0     0.008    0.011        0.007  \n",
       "1     0.539    0.591        0.551  \n",
       "2     0.580    0.632        0.592  \n",
       "3     0.625    0.679        0.642  \n",
       "4     0.707    0.746        0.723  \n",
       "5     0.746    0.781        0.762  \n",
       "6     0.781    0.815        0.797  \n",
       "7     0.820    0.846        0.831  \n",
       "8     0.843    0.865        0.853  \n",
       "9     0.863    0.884        0.873  \n",
       "10    0.880    0.898        0.889  \n",
       "11    0.894    0.910        0.902  \n",
       "12    0.913    0.924        0.920  \n",
       "13    0.922    0.931        0.927  \n",
       "14    0.930    0.939        0.935  \n",
       "15    0.937    0.945        0.941  \n",
       "16    0.944    0.951        0.948  \n",
       "17    0.953    0.957        0.956  \n",
       "18    0.957    0.960        0.959  \n",
       "19    0.961    0.963        0.963  "
      ]
     },
     "execution_count": 60,
     "metadata": {},
     "output_type": "execute_result"
    }
   ],
   "source": [
    "premium_views_device_pandas.head(20)\n",
    "## rozklad po urządzeniach jest bardzo zbliżony do siebie"
   ]
  }
 ],
 "metadata": {
  "kernelspec": {
   "display_name": "Python [default]",
   "language": "python",
   "name": "python3"
  },
  "language_info": {
   "codemirror_mode": {
    "name": "ipython",
    "version": 3
   },
   "file_extension": ".py",
   "mimetype": "text/x-python",
   "name": "python",
   "nbconvert_exporter": "python",
   "pygments_lexer": "ipython3",
   "version": "3.6.2"
  }
 },
 "nbformat": 4,
 "nbformat_minor": 2
}
